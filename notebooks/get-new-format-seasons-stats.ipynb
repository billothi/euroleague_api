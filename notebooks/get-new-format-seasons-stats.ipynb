{
 "cells": [
  {
   "cell_type": "markdown",
   "metadata": {},
   "source": [
    "A notebook for extracting the stats for a range of seasons (all season in the new format)."
   ]
  },
  {
   "cell_type": "code",
   "execution_count": null,
   "metadata": {},
   "outputs": [],
   "source": [
    "# from euroleague_api.boxscore_data import get_game_boxscore_quarter_data_multiple_seasons, get_player_boxscore_stats_multiple_seasons\n",
    "# from euroleague_api.game_stats import get_game_stats_range_seasons, get_game_reports_range_seasons, get_game_teams_comparison_range_seasons\n",
    "# from euroleague_api.play_by_play_data import get_game_play_by_play_data_multiple_seasons\n",
    "# from euroleague_api.player_stats import get_player_stats_range_seasons\n",
    "# from euroleague_api.shot_data import get_game_shot_data_multiple_seasons\n",
    "# from euroleague_api.team_stats import get_team_stats_range_seasons\n",
    "\n",
    "import sys\n",
    "import pandas as pd\n",
    "sys.path.append('../')\n",
    "from src.euroleague_api.boxscore_data import get_game_boxscore_quarter_data_multiple_seasons, get_player_boxscore_stats_multiple_seasons\n",
    "from src.euroleague_api.game_stats import get_game_stats_range_seasons, get_game_reports_range_seasons, get_game_teams_comparison_range_seasons\n",
    "from src.euroleague_api.play_by_play_data import get_game_play_by_play_data_multiple_seasons\n",
    "from src.euroleague_api.player_stats import get_player_stats_range_seasons\n",
    "from src.euroleague_api.shot_data import get_game_shot_data_multiple_seasons\n",
    "from src.euroleague_api.team_stats import get_team_stats_range_seasons"
   ]
  },
  {
   "cell_type": "code",
   "execution_count": null,
   "metadata": {},
   "outputs": [],
   "source": [
    "start_season = 2016\n",
    "end_season = 2022"
   ]
  },
  {
   "cell_type": "code",
   "execution_count": null,
   "metadata": {},
   "outputs": [],
   "source": [
    "player_bxs_df = get_player_boxscore_stats_multiple_seasons(start_season, end_season)"
   ]
  },
  {
   "cell_type": "code",
   "execution_count": null,
   "metadata": {},
   "outputs": [],
   "source": [
    "player_bxs_df.to_csv(f\"data/player_boxscore_stats_{start_season}_{end_season}.csv\", index=False)"
   ]
  },
  {
   "cell_type": "code",
   "execution_count": null,
   "metadata": {},
   "outputs": [],
   "source": [
    "team_bxs_df = get_game_boxscore_quarter_data_multiple_seasons(start_season, end_season)"
   ]
  },
  {
   "cell_type": "code",
   "execution_count": null,
   "metadata": {},
   "outputs": [],
   "source": [
    "team_bxs_df.to_csv(f\"data/team_boxscore_stats_{start_season}_{end_season}.csv\", index=False)"
   ]
  },
  {
   "cell_type": "code",
   "execution_count": null,
   "metadata": {},
   "outputs": [],
   "source": [
    "shot_data_df = get_game_shot_data_multiple_seasons(start_season, end_season)"
   ]
  },
  {
   "cell_type": "code",
   "execution_count": null,
   "metadata": {},
   "outputs": [],
   "source": [
    "shot_data_df.to_csv(f\"data/shot_data_{start_season}_{end_season}.csv\", index=False)"
   ]
  },
  {
   "cell_type": "code",
   "execution_count": null,
   "metadata": {},
   "outputs": [],
   "source": [
    "game_reports_df = get_game_reports_range_seasons(start_season, end_season)"
   ]
  },
  {
   "cell_type": "code",
   "execution_count": null,
   "metadata": {},
   "outputs": [],
   "source": [
    "game_reports_df.to_csv(f\"data/game_report_{start_season}_{end_season}.csv\", index=False)"
   ]
  },
  {
   "cell_type": "code",
   "execution_count": null,
   "metadata": {},
   "outputs": [],
   "source": [
    "pbp_df = get_game_play_by_play_data_multiple_seasons(start_season, end_season)"
   ]
  },
  {
   "cell_type": "code",
   "execution_count": null,
   "metadata": {},
   "outputs": [],
   "source": [
    "pbp_df.to_csv(f\"data/game_play_by_play_{start_season}_{end_season}.csv\", index=False)"
   ]
  },
  {
   "cell_type": "code",
   "execution_count": null,
   "metadata": {},
   "outputs": [],
   "source": [
    "game_stats_df = get_game_stats_range_seasons(start_season, end_season)"
   ]
  },
  {
   "cell_type": "code",
   "execution_count": null,
   "metadata": {},
   "outputs": [],
   "source": [
    "game_stats_df.to_csv(f\"data/game_stats_{start_season}_{end_season}.csv\", index=False)"
   ]
  },
  {
   "cell_type": "code",
   "execution_count": null,
   "metadata": {},
   "outputs": [],
   "source": [
    "game_teams_comparison_df = get_game_teams_comparison_range_seasons(start_season, end_season)"
   ]
  },
  {
   "cell_type": "code",
   "execution_count": null,
   "metadata": {},
   "outputs": [],
   "source": [
    "game_teams_comparison_df.to_csv(f\"data/game_teams_comparison_{start_season}_{end_season}.csv\", index=False)"
   ]
  },
  {
   "cell_type": "code",
   "execution_count": null,
   "metadata": {},
   "outputs": [],
   "source": [
    "team_stats_df = get_team_stats_range_seasons(endpoint=\"advanced\", from_season=start_season, to_season=end_season, phase_type_code=None, statistic_mode=\"PerGame\")"
   ]
  },
  {
   "cell_type": "code",
   "execution_count": null,
   "metadata": {},
   "outputs": [],
   "source": [
    "team_stats_df.to_csv(f\"data/team_stats_advanced_per_game_{start_season}_{end_season}.csv\", index=False)"
   ]
  },
  {
   "cell_type": "code",
   "execution_count": null,
   "metadata": {},
   "outputs": [],
   "source": [
    "player_stats = get_player_stats_range_seasons(endpoint=\"advanced\", start_season=start_season, end_season=end_season, phase_type_code=None, statistic_mode=\"PerGame\")"
   ]
  },
  {
   "cell_type": "code",
   "execution_count": null,
   "metadata": {},
   "outputs": [],
   "source": [
    "player_stats.to_csv(f\"data/player_stats_advanced_per_game_{start_season}_{end_season}.csv\", index=False)"
   ]
  }
 ],
 "metadata": {
  "kernelspec": {
   "display_name": "euroleague-api",
   "language": "python",
   "name": "python3"
  },
  "language_info": {
   "codemirror_mode": {
    "name": "ipython",
    "version": 3
   },
   "file_extension": ".py",
   "mimetype": "text/x-python",
   "name": "python",
   "nbconvert_exporter": "python",
   "pygments_lexer": "ipython3",
   "version": "3.10.12"
  }
 },
 "nbformat": 4,
 "nbformat_minor": 2
}
