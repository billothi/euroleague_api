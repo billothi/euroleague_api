{
 "cells": [
  {
   "cell_type": "markdown",
   "metadata": {},
   "source": [
    "A notebook that extracts the stats for a particula season (2023)"
   ]
  },
  {
   "cell_type": "code",
   "execution_count": null,
   "metadata": {},
   "outputs": [],
   "source": [
    "# import sys\n",
    "# sys.path.append('../')\n",
    "# from src.euroleague_api.boxscore_data import BoxScoreData\n",
    "# from src.euroleague_api.game_stats import GameStats\n",
    "# from src.euroleague_api.play_by_play_data import PlayByPlay\n",
    "# from src.euroleague_api.player_stats import PlayerStats\n",
    "# from src.euroleague_api.shot_data import ShotData\n",
    "# from src.euroleague_api.standings import Standings\n",
    "# from src.euroleague_api.team_stats import TeamStats\n",
    "\n",
    "from euroleague_api.boxscore_data import BoxScoreData\n",
    "from euroleague_api.game_stats import GameStats\n",
    "from euroleague_api.play_by_play_data import PlayByPlay\n",
    "from euroleague_api.player_stats import PlayerStats\n",
    "from euroleague_api.shot_data import ShotData\n",
    "from euroleague_api.standings import Standings\n",
    "from euroleague_api.team_stats import TeamStats"
   ]
  },
  {
   "cell_type": "code",
   "execution_count": null,
   "metadata": {},
   "outputs": [],
   "source": [
    "season = 2023\n",
    "roundid = 28\n",
    "competition_code = \"E\""
   ]
  },
  {
   "cell_type": "code",
   "execution_count": null,
   "metadata": {},
   "outputs": [],
   "source": [
    "shotdata = ShotData()\n",
    "# df = shotdata.get_game_shot_data(season, roundid)\n",
    "\n",
    "shot_data_df = shotdata.get_game_shot_data_single_season(season)\n",
    "# shot_data_df.to_csv(\n",
    "#     f\"data/shot_data_{competition_code}{season}.csv\", index=False)\n",
    "\n",
    "# df2 = shotdata.get_game_shot_data_multiple_seasons(2022, season)"
   ]
  },
  {
   "cell_type": "code",
   "execution_count": null,
   "metadata": {},
   "outputs": [],
   "source": [
    "boxscore = BoxScoreData(competition_code)\n",
    "team_bxs_df = boxscore.get_game_boxscore_quarter_data_single_season(season)\n",
    "player_bxs_df = boxscore.get_player_boxscore_stats_single_season(season)"
   ]
  },
  {
   "cell_type": "code",
   "execution_count": null,
   "metadata": {},
   "outputs": [],
   "source": [
    "player_bxs_df.to_csv(\n",
    "    f\"data/player_boxscore_stats_{competition_code}{season}.csv\", index=False)\n",
    "\n",
    "team_bxs_df.to_csv(\n",
    "    f\"data/team_boxscore_stats_{competition_code}{season}.csv\", index=False)"
   ]
  },
  {
   "cell_type": "code",
   "execution_count": null,
   "metadata": {},
   "outputs": [],
   "source": [
    "gamestats = GameStats(competition_code)\n",
    "game_reports_df = gamestats.get_game_reports_single_season(season)\n",
    "game_stats_df = gamestats.get_game_stats_single_season(season)\n",
    "game_comparison_stats_df = gamestats.get_game_teams_comparison_single_season(season)\n",
    "\n",
    "game_reports_df.to_csv(\n",
    "    f\"data/game_report_{competition_code}{season}.csv\", index=False)\n",
    "game_stats_df.to_csv(\n",
    "    f\"data/game_stats_{competition_code}{season}.csv\", index=False)\n",
    "game_comparison_stats_df.to_csv(\n",
    "    f\"data/game_pregame_teams_comparison_{competition_code}{season}.csv\", index=False)"
   ]
  },
  {
   "cell_type": "code",
   "execution_count": null,
   "metadata": {},
   "outputs": [],
   "source": [
    "standings = Standings(competition_code)\n",
    "standings_df = standings.get_standings(season=season, round_number=5)\n",
    "standings_df.to_csv(\n",
    "    f\"data/standings_{competition_code}{season}_{roundid}.csv\", index=False)"
   ]
  },
  {
   "cell_type": "code",
   "execution_count": null,
   "metadata": {},
   "outputs": [],
   "source": [
    "playbyplay = PlayByPlay(competition_code)\n",
    "pbp_df = playbyplay.get_game_play_by_play_data_single_season(season)\n",
    "pbp_df.to_csv(\n",
    "    f\"data/game_play_by_play_{competition_code}{season}.csv\", index=False)"
   ]
  },
  {
   "cell_type": "code",
   "execution_count": null,
   "metadata": {},
   "outputs": [],
   "source": [
    "teamstats = TeamStats(competition_code)\n",
    "team_stats_df = teamstats.get_team_stats_single_season(\n",
    "    endpoint=\"advanced\", season=season, phase_type_code=None, statistic_mode=\"PerGame\")\n",
    "\n",
    "team_stats_df.to_csv(\n",
    "    f\"data/team_stats_advanced_per_game_{competition_code}{season}.csv\", index=False)"
   ]
  },
  {
   "cell_type": "code",
   "execution_count": null,
   "metadata": {},
   "outputs": [],
   "source": [
    "playerstats = PlayerStats(competition_code)\n",
    "\n",
    "player_stats_df = playerstats.get_player_stats_single_season(\n",
    "\n",
    "    endpoint=\"advanced\", season=season, phase_type_code=None, statistic_mode=\"Accumulated\")\n",
    "\n",
    "player_stats_df.to_csv(\n",
    "    f\"data/player_stats_advanced_accumulated_{competition_code}{season}.csv\", index=False)"
   ]
  }
 ],
 "metadata": {
  "kernelspec": {
   "display_name": "euroleague-api",
   "language": "python",
   "name": "python3"
  },
  "language_info": {
   "codemirror_mode": {
    "name": "ipython",
    "version": 3
   },
   "file_extension": ".py",
   "mimetype": "text/x-python",
   "name": "python",
   "nbconvert_exporter": "python",
   "pygments_lexer": "ipython3",
   "version": "3.10.12"
  }
 },
 "nbformat": 4,
 "nbformat_minor": 2
}
