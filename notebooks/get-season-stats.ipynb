{
 "cells": [
  {
   "cell_type": "markdown",
   "metadata": {},
   "source": [
    "A notebook that extracts the stats for a particula season (2023)"
   ]
  },
  {
   "cell_type": "code",
   "execution_count": null,
   "metadata": {},
   "outputs": [],
   "source": [
    "# from euroleague_api.boxscore_data import get_game_boxscore_quarter_data_single_season, get_player_boxscore_stats_single_season\n",
    "# from euroleague_api.game_stats import get_game_stats_single_season, get_game_reports_single_season, get_game_teams_comparison_single_season\n",
    "# from euroleague_api.play_by_play_data import get_game_play_by_play_data_single_season\n",
    "# from euroleague_api.player_stats import get_player_stats_single_season\n",
    "# from euroleague_api.shot_data import get_game_shot_data_single_season\n",
    "# from euroleague_api.team_stats import get_team_stats_single_season\n",
    "\n",
    "import sys\n",
    "import pandas as pd\n",
    "sys.path.append('../')\n",
    "from src.euroleague_api.boxscore_data import get_game_boxscore_quarter_data_single_season, get_player_boxscore_stats_single_season\n",
    "from src.euroleague_api.game_stats import get_game_stats_single_season, get_game_reports_single_season, get_game_teams_comparison_single_season\n",
    "from src.euroleague_api.play_by_play_data import get_game_play_by_play_data_single_season\n",
    "from src.euroleague_api.player_stats import get_player_stats_single_season\n",
    "from src.euroleague_api.shot_data import get_game_shot_data_single_season\n",
    "from src.euroleague_api.team_stats import get_team_stats_single_season"
   ]
  },
  {
   "cell_type": "code",
   "execution_count": null,
   "metadata": {},
   "outputs": [],
   "source": [
    "season = 2023"
   ]
  },
  {
   "cell_type": "code",
   "execution_count": null,
   "metadata": {},
   "outputs": [],
   "source": [
    "player_bxs_df = get_player_boxscore_stats_single_season(season)"
   ]
  },
  {
   "cell_type": "code",
   "execution_count": null,
   "metadata": {},
   "outputs": [],
   "source": [
    "player_bxs_df.to_csv(f\"data/player_boxscore_stats_{season}.csv\", index=False)"
   ]
  },
  {
   "cell_type": "code",
   "execution_count": null,
   "metadata": {},
   "outputs": [],
   "source": [
    "team_bxs_df = get_game_boxscore_quarter_data_single_season(season)"
   ]
  },
  {
   "cell_type": "code",
   "execution_count": null,
   "metadata": {},
   "outputs": [],
   "source": [
    "team_bxs_df.to_csv(f\"data/team_boxscore_stats_{season}.csv\", index=False)"
   ]
  },
  {
   "cell_type": "code",
   "execution_count": null,
   "metadata": {},
   "outputs": [],
   "source": [
    "shot_data_df = get_game_shot_data_single_season(season)"
   ]
  },
  {
   "cell_type": "code",
   "execution_count": null,
   "metadata": {},
   "outputs": [],
   "source": [
    "shot_data_df.to_csv(f\"data/shot_data_{season}.csv\", index=False)"
   ]
  },
  {
   "cell_type": "code",
   "execution_count": null,
   "metadata": {},
   "outputs": [],
   "source": [
    "game_reports_df = get_game_reports_single_season(season)"
   ]
  },
  {
   "cell_type": "code",
   "execution_count": null,
   "metadata": {},
   "outputs": [],
   "source": [
    "game_reports_df.to_csv(f\"data/game_report_{season}.csv\", index=False)"
   ]
  },
  {
   "cell_type": "code",
   "execution_count": null,
   "metadata": {},
   "outputs": [],
   "source": [
    "pbp_df = get_game_play_by_play_data_single_season(season)"
   ]
  },
  {
   "cell_type": "code",
   "execution_count": null,
   "metadata": {},
   "outputs": [],
   "source": [
    "pbp_df.to_csv(f\"data/game_play_by_play_{season}.csv\", index=False)"
   ]
  },
  {
   "cell_type": "code",
   "execution_count": null,
   "metadata": {},
   "outputs": [],
   "source": [
    "game_stats_df = get_game_stats_single_season(season)"
   ]
  },
  {
   "cell_type": "code",
   "execution_count": null,
   "metadata": {},
   "outputs": [],
   "source": [
    "game_stats_df.to_csv(f\"data/game_stats_{season}.csv\", index=False)"
   ]
  },
  {
   "cell_type": "code",
   "execution_count": null,
   "metadata": {},
   "outputs": [],
   "source": [
    "game_comparison_stats_df = get_game_teams_comparison_single_season(season)"
   ]
  },
  {
   "cell_type": "code",
   "execution_count": null,
   "metadata": {},
   "outputs": [],
   "source": [
    "game_comparison_stats_df.to_csv(f\"data/game_pregame_teams_comparison_{season}.csv\", index=False)"
   ]
  },
  {
   "cell_type": "code",
   "execution_count": null,
   "metadata": {},
   "outputs": [],
   "source": [
    "team_stats_df = get_team_stats_single_season(endpoint=\"advanced\", season=season, phase_type_code=None, statistic_mode=\"PerGame\")"
   ]
  },
  {
   "cell_type": "code",
   "execution_count": null,
   "metadata": {},
   "outputs": [],
   "source": [
    "team_stats_df.to_csv(f\"data/team_stats_advanced_per_game_{season}.csv\", index=False)"
   ]
  },
  {
   "cell_type": "code",
   "execution_count": null,
   "metadata": {},
   "outputs": [],
   "source": [
    "player_stats = get_player_stats_single_season(endpoint=\"advanced\", season=season, phase_type_code=None, statistic_mode=\"PerGame\")"
   ]
  },
  {
   "cell_type": "code",
   "execution_count": null,
   "metadata": {},
   "outputs": [],
   "source": [
    "player_stats.to_csv(f\"data/player_stats_advanced_per_game_{season}.csv\", index=False)"
   ]
  }
 ],
 "metadata": {
  "kernelspec": {
   "display_name": "euroleague-api",
   "language": "python",
   "name": "python3"
  },
  "language_info": {
   "codemirror_mode": {
    "name": "ipython",
    "version": 3
   },
   "file_extension": ".py",
   "mimetype": "text/x-python",
   "name": "python",
   "nbconvert_exporter": "python",
   "pygments_lexer": "ipython3",
   "version": "3.10.12"
  },
  "orig_nbformat": 4
 },
 "nbformat": 4,
 "nbformat_minor": 2
}
